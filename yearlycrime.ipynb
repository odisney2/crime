{
 "cells": [
  {
   "cell_type": "markdown",
   "metadata": {},
   "source": [
    "    # Orris J. Disney II\n",
    "    # Python/SQL project Spring 2019\n",
    "    \n",
    "    \n",
    "    # Project for Python - Population and Police on force vs number of violent crimes per year\n",
    "    "
   ]
  },
  {
   "cell_type": "code",
   "execution_count": 1,
   "metadata": {},
   "outputs": [],
   "source": [
    "import sqlite3\n",
    "import csv\n",
    "import matplotlib.pyplot as plt\n",
    "import pandas as pd \n",
    "\n",
    "# this is the query to run to create the table for the peace officers table in sqlite\n",
    "\n",
    "# this is also where the database name will be\n",
    "\n",
    "peace_officer_create_query = '''\n",
    "CREATE TABLE IF NOT EXISTS peace_officers (\n",
    "                                    id integer PRIMARY KEY,\n",
    "                                    year integer NOT NULL,\n",
    "                                    Number_URC_fulltime integer NOT NULL,\n",
    "                                    number_URC_sworn integer NOT NULL,\n",
    "                                    number_URC_non_sworn integer NOT NULL\n",
    "                                );\n",
    "\n",
    "'''\n",
    "\n",
    "# this is the query to run to create the table for the population, violent crime count, and broken down other \n",
    "# information if i have time to create tables for it in sqlite\n",
    "\n",
    "crime_data_create_query = '''\n",
    "CREATE TABLE IF NOT EXISTS crime_data (\n",
    "                                    id integer PRIMARY KEY,\n",
    "                                    year integer NOT NULL,\n",
    "                                    population integer NOT NULL,\n",
    "                                    violent_crime integer NOT NULL,\n",
    "                                    murder integer NOT NULL,\n",
    "                                    robbery integer NOT NULL,\n",
    "                                    aggravated_assault integer NOT NULL,\n",
    "                                    property_crime integer NOT NULL,\n",
    "                                    burglary integer NOT NULL,\n",
    "                                    larceny_theft integer NOT NULL,\n",
    "                                    motor_vehicle_theft integer NOT NULL\n",
    "                                );\n",
    "\n",
    "'''\n",
    "\n",
    "database_name = \"violentcrimes.db\""
   ]
  },
  {
   "cell_type": "code",
   "execution_count": 2,
   "metadata": {},
   "outputs": [],
   "source": [
    "def printoutlisttable():\n",
    "    \n",
    "    res = conn.execute(\"SELECT name FROM sqlite_master WHERE type='table';\")\n",
    "    for name in res:\n",
    "        print(name[0])\n"
   ]
  },
  {
   "cell_type": "code",
   "execution_count": 3,
   "metadata": {},
   "outputs": [
    {
     "name": "stdout",
     "output_type": "stream",
     "text": [
      "Open/Created db successfully\n"
     ]
    }
   ],
   "source": [
    "# this will create the database if it does not exist, and set connection if the database already exist\n",
    "\n",
    "conn = sqlite3.connect(database_name) \n",
    "print(\"Open/Created db successfully\")\n"
   ]
  },
  {
   "cell_type": "code",
   "execution_count": 4,
   "metadata": {},
   "outputs": [
    {
     "name": "stdout",
     "output_type": "stream",
     "text": [
      "Before removing the peace_officer and crime_data table\n",
      "peace_officers\n",
      "crime_data\n"
     ]
    }
   ],
   "source": [
    "# printout if there are any tables in the database  --  should be empty, but this is used for visual verification\n",
    "\n",
    "print('Before removing the peace_officer and crime_data table')\n",
    "res = conn.execute(\"SELECT name FROM sqlite_master WHERE type='table';\")\n",
    "for name in res:\n",
    "    print(name[0])\n"
   ]
  },
  {
   "cell_type": "code",
   "execution_count": 5,
   "metadata": {},
   "outputs": [
    {
     "name": "stdout",
     "output_type": "stream",
     "text": [
      "After removing the peace_officer and crime_data table\n"
     ]
    }
   ],
   "source": [
    "# make sure we are starting with a clean empty database before importing data from CSV files\n",
    "\n",
    "# Once we have a Connection object, we can then create a Cursor object. \n",
    "# Cursors allow us to execute SQL queries against a database:\n",
    "\n",
    "c = conn.cursor()\n",
    "\n",
    "c.execute('''DROP TABLE IF EXISTS[peace_officers]''') \n",
    "c.execute('''DROP TABLE IF EXISTS[crime_data]''') \n",
    "\n",
    "print('After removing the peace_officer and crime_data table')\n",
    "printoutlisttable()\n"
   ]
  },
  {
   "cell_type": "code",
   "execution_count": 6,
   "metadata": {},
   "outputs": [
    {
     "data": {
      "text/plain": [
       "<sqlite3.Cursor at 0x1b4f0144340>"
      ]
     },
     "execution_count": 6,
     "metadata": {},
     "output_type": "execute_result"
    }
   ],
   "source": [
    "# Create the two tables to get ready to get data from CSV files\n",
    "\n",
    "c.execute(peace_officer_create_query)\n",
    "c.execute(crime_data_create_query)\n"
   ]
  },
  {
   "cell_type": "code",
   "execution_count": 7,
   "metadata": {},
   "outputs": [
    {
     "name": "stdout",
     "output_type": "stream",
     "text": [
      "After creating the peace_officer and crime_data table\n",
      "peace_officers\n",
      "crime_data\n"
     ]
    }
   ],
   "source": [
    "# printout to confirm the peace officer and crime data table are created\n",
    "\n",
    "print('After creating the peace_officer and crime_data table')\n",
    "printoutlisttable()"
   ]
  },
  {
   "cell_type": "code",
   "execution_count": 8,
   "metadata": {},
   "outputs": [],
   "source": [
    "#  input the data from peace officer to the table in the database\n",
    "\n",
    "with open('number_of_peace_officers_table.csv', 'r') as csvfile: # `with` statement available in 2.5+\n",
    "    # csv.DictReader uses first line in file for column headings by default\n",
    "    dr = csv.DictReader(csvfile) # comma is default delimiter\n",
    "    to_db = [(i['year'], i['Number_URC_fulltime'], i['number_URC_sworn'], i['number_URC_non_sworn']) for i in dr]\n",
    "\n",
    "c.executemany(\"INSERT INTO peace_officers (year, Number_URC_fulltime, number_URC_sworn, number_URC_non_sworn) VALUES (?, ?, ?, ?);\", to_db)\n",
    "conn.commit()\n",
    "conn.close()"
   ]
  },
  {
   "cell_type": "code",
   "execution_count": 9,
   "metadata": {},
   "outputs": [],
   "source": [
    "#  input the data from population and violent crimes into the table\n",
    "\n",
    "conn = sqlite3.connect(\"violentcrimes.db\") \n",
    "c = conn.cursor()\n",
    "with open('Population_and_violent_crime_97_2016.csv', 'r') as csvCrimeDatafile: # `with` statement available in 2.5+\n",
    "    # csv.DictReader uses first line in file for column headings by default\n",
    "    drCrimeData = csv.DictReader(csvCrimeDatafile) # comma is default delimiter\n",
    "    to_dbCrimeData = [(i['year'], i['population'], i['violent_crime'], i['murder'], i['robbery'], i['aggravated_assault'], i['property_crime'], i['burglary'], i['larceny_theft'], i['motor_vehicle_theft']) for i in drCrimeData]\n",
    "\n",
    "c.executemany(\"INSERT INTO crime_data (year, population, violent_crime, murder, robbery, aggravated_assault, property_crime, burglary, larceny_theft, motor_vehicle_theft) VALUES (?, ?, ?, ?, ?, ?, ?, ?, ?, ?);\", to_dbCrimeData)\n",
    "conn.commit()\n",
    "conn.close()"
   ]
  },
  {
   "cell_type": "code",
   "execution_count": 10,
   "metadata": {},
   "outputs": [
    {
     "name": "stdout",
     "output_type": "stream",
     "text": [
      "1 1992 779914 569703 210211\n",
      "2 1993 799373 579488 219885\n",
      "3 1994 838109 603099 235010\n",
      "4 1995 873356 629762 243594\n",
      "5 1996 892262 640492 251770\n",
      "6 1997 890389 642753 247636\n",
      "7 1998 930310 666492 263818\n",
      "8 1999 962122 680934 281188\n",
      "9 2000 975511 690195 285316\n",
      "10 2001 1003441 705559 297882\n",
      "11 2002 1011967 705871 306096\n",
      "12 2003 1017718 712371 305347\n",
      "13 2004 1039931 725334 314597\n",
      "14 2005 1044228 727084 317144\n",
      "15 2006 1066024 740592 325432\n",
      "16 2007 1095989 751526 344463\n",
      "17 2008 1099463 762944 336519\n",
      "18 2009 1102599 764635 337964\n",
      "19 2010 1089054 758854 330200\n",
      "20 2011 1098778 768287 330491\n",
      "21 2012 1076054 750340 325714\n"
     ]
    }
   ],
   "source": [
    "#  Confirm that the data went to the peace_officer table\n",
    "\n",
    "conn = sqlite3.connect(database_name) \n",
    "\n",
    "res = conn.execute(\"SELECT * FROM peace_officers;\")\n",
    "for name in res:\n",
    "    print(str(name[0]) + ' ' + str(name[1]) + ' ' + str(name[2]) + ' ' + str(name[3]) + ' ' + str(name[4]))\n",
    "    \n",
    "conn.close()\n"
   ]
  },
  {
   "cell_type": "code",
   "execution_count": 11,
   "metadata": {},
   "outputs": [
    {
     "name": "stdout",
     "output_type": "stream",
     "text": [
      "1 1997 267783607 1636096 18208 498534 1023201 11558475 2460526\n",
      "2 1998 270248003 1533887 16974 447186 976583 10951827 2332735\n",
      "3 1999 272690813 1426044 15522 409371 911740 10208334 2100739\n",
      "4 2000 281421906 1425486 15586 408016 911706 10182584 2050992\n",
      "5 2001 285317559 1439480 16037 423557 909023 10437189 2116531\n",
      "6 2002 287973924 1423677 16229 420806 891407 10455277 2151252\n",
      "7 2003 290788976 1383676 16528 414235 859030 10442862 2154834\n",
      "8 2004 293656842 1360088 16148 401470 847381 10319386 2144446\n",
      "9 2005 296507061 1390745 16740 417438 862220 10174754 2155448\n",
      "10 2006 299398484 1435123 17309 449246 874096 10019601 2194993\n",
      "11 2007 301621157 1422970 17128 447324 866358 9882212 2190198\n",
      "12 2008 304059724 1394461 16465 443563 843683 9774152 2228887\n",
      "13 2009 307006550 1325896 15399 408742 812514 9337060 2203313\n",
      "14 2010 309330219 1251248 14722 369089 781844 9112625 2168459\n",
      "15 2011 311587816 1206005 14661 354746 752423 9052743 2185140\n",
      "16 2012 313873685 1217057 14856 355051 762009 9001992 2109932\n",
      "17 2013 316497531 1168298 14319 345093 726777 8651892 1932139\n",
      "18 2014 318907401 1153022 14164 322905 731089 8209010 1713153\n",
      "19 2015 320896618 1199310 15883 328109 764057 8024115 1587564\n",
      "20 2016 323127513 1248185 17250 332198 803007 7919035 1515096\n"
     ]
    }
   ],
   "source": [
    "#  Confirm that the data went to the crime_table table\n",
    "\n",
    "conn = sqlite3.connect(database_name) \n",
    "\n",
    "res = conn.execute(\"SELECT * FROM crime_data;\")\n",
    "for name in res:\n",
    "    print(str(name[0]) + ' ' + str(name[1]) + ' ' + str(name[2]) + ' ' + str(name[3]) + ' ' + str(name[4]) + ' ' + str(name[5]) + ' ' + str(name[6]) + ' ' + str(name[7]) + ' ' + str(name[8]))\n",
    "\n",
    "conn.close()\n"
   ]
  },
  {
   "cell_type": "code",
   "execution_count": 12,
   "metadata": {},
   "outputs": [
    {
     "data": {
      "text/plain": [
       "<matplotlib.axes._subplots.AxesSubplot at 0x1b4f05d45f8>"
      ]
     },
     "execution_count": 12,
     "metadata": {},
     "output_type": "execute_result"
    },
    {
     "data": {
      "image/png": "[encoded data removed]",
      "text/plain": [
       "<Figure size 432x288 with 1 Axes>"
      ]
     },
     "metadata": {
      "needs_background": "light"
     },
     "output_type": "display_data"
    }
   ],
   "source": [
    "# this is the first attempt to graph the data between the violent crimes and number of police officers via URC data\n",
    "\n",
    "conn = sqlite3.connect(database_name) \n",
    "#res_police_population_crime = conn.execute(\"SELECT cd.year, cd.population, cd.violent_crime, po.number_URC_fulltime FROM crime_data as cd JOIN peace_officers as po ON cd.year = po.year;\")\n",
    "\n",
    "actual_data = pd.read_sql_query(\"SELECT cd.year as year, cd.population as population, cd.violent_crime as violent_crime, po.number_URC_fulltime as number_URC_fulltime FROM crime_data as cd JOIN peace_officers as po ON cd.year = po.year;\", conn)\n",
    "\n",
    "conn.close()\n",
    "\n",
    "actual_data[\"year\"] = pd.to_numeric(actual_data['year'])\n",
    "\n",
    "actual_data[\"violent_crime\"] = pd.to_numeric(actual_data['violent_crime']/1000)\n",
    "actual_data[\"number_URC_fulltime\"] = pd.to_numeric(actual_data['number_URC_fulltime']/1000)\n",
    "actual_data.plot(x=\"year\", y=[\"violent_crime\", \"number_URC_fulltime\"], kind=\"line\")"
   ]
  },
  {
   "cell_type": "code",
   "execution_count": 13,
   "metadata": {},
   "outputs": [
    {
     "data": {
      "image/png": "[encoded data removed]",
      "text/plain": [
       "<Figure size 432x288 with 1 Axes>"
      ]
     },
     "metadata": {
      "needs_background": "light"
     },
     "output_type": "display_data"
    }
   ],
   "source": [
    "conn = sqlite3.connect(database_name) \n",
    "\n",
    "c = conn.cursor()\n",
    "\n",
    "c.execute('SELECT cd.year as year, cd.population as population, cd.violent_crime as violent_crime, po.number_URC_fulltime as number_URC_fulltime FROM crime_data as cd JOIN peace_officers as po ON cd.year = po.year')\n",
    "data = c.fetchall()\n",
    "\n",
    "year = []\n",
    "population = []\n",
    "    \n",
    "for row in data:\n",
    "    year.append((row[0]))\n",
    "    population.append(row[1]/100000)\n",
    "\n",
    "# refer to this website for the plot information \n",
    "# https://matplotlib.org/api/_as_gen/matplotlib.pyplot.plot.html\n",
    "\n",
    "plt.plot(year,population,'go--')\n",
    "plt.title(\"Population in United States (multiply by 100,000)\",fontsize= 20)\n",
    "\n",
    "\n",
    "plt.show()"
   ]
  },
  {
   "cell_type": "code",
   "execution_count": 14,
   "metadata": {},
   "outputs": [
    {
     "data": {
      "text/html": [
       "<div>\n",
       "<style scoped>\n",
       "    .dataframe tbody tr th:only-of-type {\n",
       "        vertical-align: middle;\n",
       "    }\n",
       "\n",
       "    .dataframe tbody tr th {\n",
       "        vertical-align: top;\n",
       "    }\n",
       "\n",
       "    .dataframe thead th {\n",
       "        text-align: right;\n",
       "    }\n",
       "</style>\n",
       "<table border=\"1\" class=\"dataframe\">\n",
       "  <thead>\n",
       "    <tr style=\"text-align: right;\">\n",
       "      <th></th>\n",
       "      <th>year</th>\n",
       "      <th>population</th>\n",
       "      <th>violent_crime</th>\n",
       "      <th>number_URC_fulltime</th>\n",
       "    </tr>\n",
       "  </thead>\n",
       "  <tbody>\n",
       "    <tr>\n",
       "      <th>0</th>\n",
       "      <td>1997</td>\n",
       "      <td>267783607</td>\n",
       "      <td>1636096</td>\n",
       "      <td>890389</td>\n",
       "    </tr>\n",
       "    <tr>\n",
       "      <th>1</th>\n",
       "      <td>1998</td>\n",
       "      <td>270248003</td>\n",
       "      <td>1533887</td>\n",
       "      <td>930310</td>\n",
       "    </tr>\n",
       "    <tr>\n",
       "      <th>2</th>\n",
       "      <td>1999</td>\n",
       "      <td>272690813</td>\n",
       "      <td>1426044</td>\n",
       "      <td>962122</td>\n",
       "    </tr>\n",
       "    <tr>\n",
       "      <th>3</th>\n",
       "      <td>2000</td>\n",
       "      <td>281421906</td>\n",
       "      <td>1425486</td>\n",
       "      <td>975511</td>\n",
       "    </tr>\n",
       "    <tr>\n",
       "      <th>4</th>\n",
       "      <td>2001</td>\n",
       "      <td>285317559</td>\n",
       "      <td>1439480</td>\n",
       "      <td>1003441</td>\n",
       "    </tr>\n",
       "    <tr>\n",
       "      <th>5</th>\n",
       "      <td>2002</td>\n",
       "      <td>287973924</td>\n",
       "      <td>1423677</td>\n",
       "      <td>1011967</td>\n",
       "    </tr>\n",
       "    <tr>\n",
       "      <th>6</th>\n",
       "      <td>2003</td>\n",
       "      <td>290788976</td>\n",
       "      <td>1383676</td>\n",
       "      <td>1017718</td>\n",
       "    </tr>\n",
       "    <tr>\n",
       "      <th>7</th>\n",
       "      <td>2004</td>\n",
       "      <td>293656842</td>\n",
       "      <td>1360088</td>\n",
       "      <td>1039931</td>\n",
       "    </tr>\n",
       "    <tr>\n",
       "      <th>8</th>\n",
       "      <td>2005</td>\n",
       "      <td>296507061</td>\n",
       "      <td>1390745</td>\n",
       "      <td>1044228</td>\n",
       "    </tr>\n",
       "    <tr>\n",
       "      <th>9</th>\n",
       "      <td>2006</td>\n",
       "      <td>299398484</td>\n",
       "      <td>1435123</td>\n",
       "      <td>1066024</td>\n",
       "    </tr>\n",
       "    <tr>\n",
       "      <th>10</th>\n",
       "      <td>2007</td>\n",
       "      <td>301621157</td>\n",
       "      <td>1422970</td>\n",
       "      <td>1095989</td>\n",
       "    </tr>\n",
       "    <tr>\n",
       "      <th>11</th>\n",
       "      <td>2008</td>\n",
       "      <td>304059724</td>\n",
       "      <td>1394461</td>\n",
       "      <td>1099463</td>\n",
       "    </tr>\n",
       "    <tr>\n",
       "      <th>12</th>\n",
       "      <td>2009</td>\n",
       "      <td>307006550</td>\n",
       "      <td>1325896</td>\n",
       "      <td>1102599</td>\n",
       "    </tr>\n",
       "    <tr>\n",
       "      <th>13</th>\n",
       "      <td>2010</td>\n",
       "      <td>309330219</td>\n",
       "      <td>1251248</td>\n",
       "      <td>1089054</td>\n",
       "    </tr>\n",
       "    <tr>\n",
       "      <th>14</th>\n",
       "      <td>2011</td>\n",
       "      <td>311587816</td>\n",
       "      <td>1206005</td>\n",
       "      <td>1098778</td>\n",
       "    </tr>\n",
       "    <tr>\n",
       "      <th>15</th>\n",
       "      <td>2012</td>\n",
       "      <td>313873685</td>\n",
       "      <td>1217057</td>\n",
       "      <td>1076054</td>\n",
       "    </tr>\n",
       "  </tbody>\n",
       "</table>\n",
       "</div>"
      ],
      "text/plain": [
       "    year  population  violent_crime  number_URC_fulltime\n",
       "0   1997   267783607        1636096               890389\n",
       "1   1998   270248003        1533887               930310\n",
       "2   1999   272690813        1426044               962122\n",
       "3   2000   281421906        1425486               975511\n",
       "4   2001   285317559        1439480              1003441\n",
       "5   2002   287973924        1423677              1011967\n",
       "6   2003   290788976        1383676              1017718\n",
       "7   2004   293656842        1360088              1039931\n",
       "8   2005   296507061        1390745              1044228\n",
       "9   2006   299398484        1435123              1066024\n",
       "10  2007   301621157        1422970              1095989\n",
       "11  2008   304059724        1394461              1099463\n",
       "12  2009   307006550        1325896              1102599\n",
       "13  2010   309330219        1251248              1089054\n",
       "14  2011   311587816        1206005              1098778\n",
       "15  2012   313873685        1217057              1076054"
      ]
     },
     "execution_count": 14,
     "metadata": {},
     "output_type": "execute_result"
    }
   ],
   "source": [
    "conn = sqlite3.connect(database_name)\n",
    "df = pd.read_sql_query(\"SELECT cd.year as year, cd.population as population, cd.violent_crime as violent_crime, po.number_URC_fulltime as number_URC_fulltime FROM crime_data as cd JOIN peace_officers as po ON cd.year = po.year;\", conn)\n",
    "df"
   ]
  },
  {
   "cell_type": "code",
   "execution_count": 15,
   "metadata": {},
   "outputs": [],
   "source": [
    "df[\"violent_crime\"]\n",
    "conn.close()"
   ]
  },
  {
   "cell_type": "code",
   "execution_count": 16,
   "metadata": {},
   "outputs": [
    {
     "data": {
      "text/html": [
       "<div>\n",
       "<style scoped>\n",
       "    .dataframe tbody tr th:only-of-type {\n",
       "        vertical-align: middle;\n",
       "    }\n",
       "\n",
       "    .dataframe tbody tr th {\n",
       "        vertical-align: top;\n",
       "    }\n",
       "\n",
       "    .dataframe thead th {\n",
       "        text-align: right;\n",
       "    }\n",
       "</style>\n",
       "<table border=\"1\" class=\"dataframe\">\n",
       "  <thead>\n",
       "    <tr style=\"text-align: right;\">\n",
       "      <th></th>\n",
       "      <th>Year</th>\n",
       "      <th>population</th>\n",
       "      <th>Violent Crime</th>\n",
       "      <th>Police Officers</th>\n",
       "    </tr>\n",
       "  </thead>\n",
       "  <tbody>\n",
       "    <tr>\n",
       "      <th>0</th>\n",
       "      <td>1997</td>\n",
       "      <td>267783607</td>\n",
       "      <td>1636096</td>\n",
       "      <td>890389</td>\n",
       "    </tr>\n",
       "    <tr>\n",
       "      <th>1</th>\n",
       "      <td>1998</td>\n",
       "      <td>270248003</td>\n",
       "      <td>1533887</td>\n",
       "      <td>930310</td>\n",
       "    </tr>\n",
       "    <tr>\n",
       "      <th>2</th>\n",
       "      <td>1999</td>\n",
       "      <td>272690813</td>\n",
       "      <td>1426044</td>\n",
       "      <td>962122</td>\n",
       "    </tr>\n",
       "    <tr>\n",
       "      <th>3</th>\n",
       "      <td>2000</td>\n",
       "      <td>281421906</td>\n",
       "      <td>1425486</td>\n",
       "      <td>975511</td>\n",
       "    </tr>\n",
       "    <tr>\n",
       "      <th>4</th>\n",
       "      <td>2001</td>\n",
       "      <td>285317559</td>\n",
       "      <td>1439480</td>\n",
       "      <td>1003441</td>\n",
       "    </tr>\n",
       "    <tr>\n",
       "      <th>5</th>\n",
       "      <td>2002</td>\n",
       "      <td>287973924</td>\n",
       "      <td>1423677</td>\n",
       "      <td>1011967</td>\n",
       "    </tr>\n",
       "    <tr>\n",
       "      <th>6</th>\n",
       "      <td>2003</td>\n",
       "      <td>290788976</td>\n",
       "      <td>1383676</td>\n",
       "      <td>1017718</td>\n",
       "    </tr>\n",
       "    <tr>\n",
       "      <th>7</th>\n",
       "      <td>2004</td>\n",
       "      <td>293656842</td>\n",
       "      <td>1360088</td>\n",
       "      <td>1039931</td>\n",
       "    </tr>\n",
       "    <tr>\n",
       "      <th>8</th>\n",
       "      <td>2005</td>\n",
       "      <td>296507061</td>\n",
       "      <td>1390745</td>\n",
       "      <td>1044228</td>\n",
       "    </tr>\n",
       "    <tr>\n",
       "      <th>9</th>\n",
       "      <td>2006</td>\n",
       "      <td>299398484</td>\n",
       "      <td>1435123</td>\n",
       "      <td>1066024</td>\n",
       "    </tr>\n",
       "    <tr>\n",
       "      <th>10</th>\n",
       "      <td>2007</td>\n",
       "      <td>301621157</td>\n",
       "      <td>1422970</td>\n",
       "      <td>1095989</td>\n",
       "    </tr>\n",
       "    <tr>\n",
       "      <th>11</th>\n",
       "      <td>2008</td>\n",
       "      <td>304059724</td>\n",
       "      <td>1394461</td>\n",
       "      <td>1099463</td>\n",
       "    </tr>\n",
       "    <tr>\n",
       "      <th>12</th>\n",
       "      <td>2009</td>\n",
       "      <td>307006550</td>\n",
       "      <td>1325896</td>\n",
       "      <td>1102599</td>\n",
       "    </tr>\n",
       "    <tr>\n",
       "      <th>13</th>\n",
       "      <td>2010</td>\n",
       "      <td>309330219</td>\n",
       "      <td>1251248</td>\n",
       "      <td>1089054</td>\n",
       "    </tr>\n",
       "    <tr>\n",
       "      <th>14</th>\n",
       "      <td>2011</td>\n",
       "      <td>311587816</td>\n",
       "      <td>1206005</td>\n",
       "      <td>1098778</td>\n",
       "    </tr>\n",
       "    <tr>\n",
       "      <th>15</th>\n",
       "      <td>2012</td>\n",
       "      <td>313873685</td>\n",
       "      <td>1217057</td>\n",
       "      <td>1076054</td>\n",
       "    </tr>\n",
       "  </tbody>\n",
       "</table>\n",
       "</div>"
      ],
      "text/plain": [
       "    Year  population  Violent Crime  Police Officers\n",
       "0   1997   267783607        1636096           890389\n",
       "1   1998   270248003        1533887           930310\n",
       "2   1999   272690813        1426044           962122\n",
       "3   2000   281421906        1425486           975511\n",
       "4   2001   285317559        1439480          1003441\n",
       "5   2002   287973924        1423677          1011967\n",
       "6   2003   290788976        1383676          1017718\n",
       "7   2004   293656842        1360088          1039931\n",
       "8   2005   296507061        1390745          1044228\n",
       "9   2006   299398484        1435123          1066024\n",
       "10  2007   301621157        1422970          1095989\n",
       "11  2008   304059724        1394461          1099463\n",
       "12  2009   307006550        1325896          1102599\n",
       "13  2010   309330219        1251248          1089054\n",
       "14  2011   311587816        1206005          1098778\n",
       "15  2012   313873685        1217057          1076054"
      ]
     },
     "execution_count": 16,
     "metadata": {},
     "output_type": "execute_result"
    }
   ],
   "source": [
    "# Used Dataframe for this chart.\n",
    "\n",
    "conn = sqlite3.connect(database_name)\n",
    "c = conn.cursor()\n",
    "c.execute('SELECT cd.year as year, cd.population as population, cd.violent_crime as violent_crime, po.number_URC_fulltime as number_URC_fulltime FROM crime_data as cd JOIN peace_officers as po ON cd.year = po.year ORDER BY cd.year' )\n",
    "rows = c.fetchall()\n",
    "df = pd.DataFrame( [[ij for ij in i] for i in rows] )\n",
    "df.rename(columns={0: 'Year', 1: 'population', 2: 'Violent Crime', 3: 'Police Officers'}, inplace=True);\n",
    "df"
   ]
  },
  {
   "cell_type": "code",
   "execution_count": 17,
   "metadata": {},
   "outputs": [
    {
     "data": {
      "image/png": "[encoded data removed]",
      "text/plain": [
       "<Figure size 432x288 with 1 Axes>"
      ]
     },
     "metadata": {
      "needs_background": "light"
     },
     "output_type": "display_data"
    }
   ],
   "source": [
    "# this is where I compare the number of violent crimes and number of police officers a different way.\n",
    "\n",
    "# gca stands for 'get current axis'.   this is used so I can put two lines of data on one graph\n",
    "\n",
    "ax = plt.gca()\n",
    "\n",
    "\n",
    "df.plot(kind='line',x='Year',y='Violent Crime',ax=ax)\n",
    "df.plot(kind='line',x='Year',y='Police Officers', color='red', ax=ax)\n",
    "plt.title(\"Number Violent Crimes compared to number of Police Officer nationwide\", fontsize = 20)\n",
    "\n",
    "\n",
    "plt.show()"
   ]
  },
  {
   "cell_type": "code",
   "execution_count": null,
   "metadata": {},
   "outputs": [],
   "source": []
  }
 ],
 "metadata": {
  "kernelspec": {
   "display_name": "Python 3",
   "language": "python",
   "name": "python3"
  },
  "language_info": {
   "codemirror_mode": {
    "name": "ipython",
    "version": 3
   },
   "file_extension": ".py",
   "mimetype": "text/x-python",
   "name": "python",
   "nbconvert_exporter": "python",
   "pygments_lexer": "ipython3",
   "version": "3.7.1"
  }
 },
 "nbformat": 4,
 "nbformat_minor": 2
}
